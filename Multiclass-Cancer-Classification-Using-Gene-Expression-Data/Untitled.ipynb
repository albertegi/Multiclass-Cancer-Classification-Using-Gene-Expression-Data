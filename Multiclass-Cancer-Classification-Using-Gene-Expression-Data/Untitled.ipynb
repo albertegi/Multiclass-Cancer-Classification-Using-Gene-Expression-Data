{
 "cells": [
  {
   "cell_type": "code",
   "execution_count": 1,
   "id": "65d20063-debc-42f7-a773-047be1546182",
   "metadata": {},
   "outputs": [
    {
     "ename": "NameError",
     "evalue": "name 'X_train_selected' is not defined",
     "output_type": "error",
     "traceback": [
      "\u001b[0;31m---------------------------------------------------------------------------\u001b[0m",
      "\u001b[0;31mNameError\u001b[0m                                 Traceback (most recent call last)",
      "Cell \u001b[0;32mIn[1], line 8\u001b[0m\n\u001b[1;32m      6\u001b[0m \u001b[38;5;66;03m# Implement MLP\u001b[39;00m\n\u001b[1;32m      7\u001b[0m mlp \u001b[38;5;241m=\u001b[39m MLPClassifier(hidden_layer_sizes\u001b[38;5;241m=\u001b[39m(\u001b[38;5;241m100\u001b[39m, \u001b[38;5;241m50\u001b[39m), max_iter\u001b[38;5;241m=\u001b[39m\u001b[38;5;241m300\u001b[39m, random_state\u001b[38;5;241m=\u001b[39m\u001b[38;5;241m42\u001b[39m)\n\u001b[0;32m----> 8\u001b[0m mlp\u001b[38;5;241m.\u001b[39mfit(\u001b[43mX_train_selected\u001b[49m, y_train)\n\u001b[1;32m     10\u001b[0m \u001b[38;5;66;03m# Test MLP\u001b[39;00m\n\u001b[1;32m     11\u001b[0m y_pred_mlp \u001b[38;5;241m=\u001b[39m mlp\u001b[38;5;241m.\u001b[39mpredict(X_test_selected)\n",
      "\u001b[0;31mNameError\u001b[0m: name 'X_train_selected' is not defined"
     ]
    }
   ],
   "source": [
    "from sklearn.neural_network import MLPClassifier\n",
    "from sklearn.metrics import classification_report, ConfusionMatrixDisplay, roc_curve, auc\n",
    "import matplotlib.pyplot as plt\n",
    "import numpy as np\n",
    "\n",
    "# Implement MLP\n",
    "mlp = MLPClassifier(hidden_layer_sizes=(100, 50), max_iter=300, random_state=42)\n",
    "mlp.fit(X_train_selected, y_train)\n",
    "\n",
    "# Test MLP\n",
    "y_pred_mlp = mlp.predict(X_test_selected)\n",
    "y_prob_mlp = mlp.predict_proba(X_test_selected)\n",
    "\n",
    "# Evaluate MLP\n",
    "print(\"MLP Classification Report\")\n",
    "print(classification_report(y_test, y_pred_mlp, target_names=labels))\n",
    "\n",
    "# Visualize Confusion Matrix\n",
    "ConfusionMatrixDisplay.from_predictions(y_test, y_pred_mlp, display_labels=labels, cmap=\"Blues\")\n",
    "plt.title(\"MLP Confusion Matrix\")\n",
    "plt.show()\n",
    "\n",
    "# Visualize ROC Curve\n",
    "fpr, tpr, roc_auc = {}, {}, {}\n",
    "for i, label in enumerate(labels):\n",
    "    fpr[i], tpr[i], _ = roc_curve(label_binarize(y_test, classes=np.unique(y_test))[:, i], y_prob_mlp[:, i])\n",
    "    roc_auc[i] = auc(fpr[i], tpr[i])\n",
    "    plt.plot(fpr[i], tpr[i], label=f\"MLP - {label} (AUC={roc_auc[i]:.2f})\")\n",
    "\n",
    "plt.plot([0, 1], [0, 1], 'k--', label=\"Random Classifier (AUC=0.50)\")\n",
    "plt.xlabel(\"False Positive Rate\")\n",
    "plt.ylabel(\"True Positive Rate\")\n",
    "plt.title(\"MLP ROC Curve\")\n",
    "plt.legend(loc=\"lower right\")\n",
    "plt.show()\n"
   ]
  },
  {
   "cell_type": "code",
   "execution_count": null,
   "id": "f6b2c1e6-0805-4f52-a190-cfef2584815c",
   "metadata": {},
   "outputs": [],
   "source": []
  }
 ],
 "metadata": {
  "kernelspec": {
   "display_name": "Python 3 (ipykernel)",
   "language": "python",
   "name": "python3"
  },
  "language_info": {
   "codemirror_mode": {
    "name": "ipython",
    "version": 3
   },
   "file_extension": ".py",
   "mimetype": "text/x-python",
   "name": "python",
   "nbconvert_exporter": "python",
   "pygments_lexer": "ipython3",
   "version": "3.12.6"
  }
 },
 "nbformat": 4,
 "nbformat_minor": 5
}
